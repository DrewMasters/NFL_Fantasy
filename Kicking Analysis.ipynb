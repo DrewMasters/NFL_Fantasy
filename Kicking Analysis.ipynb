{
 "cells": [
  {
   "cell_type": "code",
   "execution_count": null,
   "metadata": {},
   "outputs": [],
   "source": [
    "import pandas as pd\n",
    "import seaborn as sns\n",
    "from matplotlib import pyplot as plt"
   ]
  },
  {
   "cell_type": "code",
   "execution_count": null,
   "metadata": {},
   "outputs": [],
   "source": [
    "dfKicking = pd.read_csv('./NFL_Data/2019/2019_NFL_Kicking.csv', sep=r'\\s*,\\s*', header=0, encoding='ascii', engine='python')"
   ]
  },
  {
   "cell_type": "code",
   "execution_count": null,
   "metadata": {},
   "outputs": [],
   "source": [
    "player_columns = ['Player', 'Tm', 'Age', 'Pos', 'G', 'GS']\n",
    "kicking_columns = ['FGA 0-19', 'FGM 0-19', 'FGA 20-29', 'FGM 20-29', 'FGA 30-39', 'FGM 30-39', 'FGA 40-49', 'FGM 40-49', 'FGA 50+', 'FGM 50+', 'FGA Scoring', 'FGM Scoring', 'Lng', 'FG%', 'XPA', 'XPM', 'XP%']"
   ]
  },
  {
   "cell_type": "code",
   "execution_count": null,
   "metadata": {},
   "outputs": [],
   "source": [
    "pointsPerRec = 1\n",
    "pointsPerPassingTD = 4\n",
    "pointsPerRushingTD = 4\n",
    "pointsPerReceivingTD = 4\n",
    "pointsPerRushingYD = 0.1\n",
    "pointsPerReceivingYd = 0.1\n",
    "pointsPerPassingYd = 0.04\n",
    "pointsPerFumble = -2\n",
    "pointsPerINT = -2"
   ]
  },
  {
   "cell_type": "code",
   "execution_count": null,
   "metadata": {},
   "outputs": [],
   "source": [
    "import statsmodels.api as sm"
   ]
  },
  {
   "cell_type": "code",
   "execution_count": null,
   "metadata": {},
   "outputs": [],
   "source": []
  }
 ],
 "metadata": {
  "kernelspec": {
   "display_name": "Python 3",
   "language": "python",
   "name": "python3"
  },
  "language_info": {
   "codemirror_mode": {
    "name": "ipython",
    "version": 3
   },
   "file_extension": ".py",
   "mimetype": "text/x-python",
   "name": "python",
   "nbconvert_exporter": "python",
   "pygments_lexer": "ipython3",
   "version": "3.7.5"
  }
 },
 "nbformat": 4,
 "nbformat_minor": 4
}
